{
 "cells": [
  {
   "cell_type": "code",
   "execution_count": 1,
   "metadata": {},
   "outputs": [
    {
     "name": "stderr",
     "output_type": "stream",
     "text": [
      "/home/vipuser/miniconda3/envs/emoenv/lib/python3.10/site-packages/tqdm/auto.py:21: TqdmWarning: IProgress not found. Please update jupyter and ipywidgets. See https://ipywidgets.readthedocs.io/en/stable/user_install.html\n",
      "  from .autonotebook import tqdm as notebook_tqdm\n",
      "/home/vipuser/miniconda3/envs/emoenv/lib/python3.10/site-packages/huggingface_hub/file_download.py:943: FutureWarning: `resume_download` is deprecated and will be removed in version 1.0.0. Downloads always resume when possible. If you want to force a new download, use `force_download=True`.\n",
      "  warnings.warn(\n"
     ]
    },
    {
     "name": "stdout",
     "output_type": "stream",
     "text": [
      "Available splits: dict_keys(['train', 'validation', 'test'])\n",
      "Train split size: 16000\n",
      "Validation split size: 2000\n",
      "Test split size: 2000\n",
      "Emotion labels: ['sadness', 'joy', 'love', 'anger', 'fear', 'surprise']\n",
      "\n",
      "Label distribution in the training set:\n",
      "sadness   : 4666\n",
      "anger     : 2159\n",
      "love      : 1304\n",
      "surprise  : 572\n",
      "fear      : 1937\n",
      "joy       : 5362\n"
     ]
    },
    {
     "data": {
      "image/png": "[encoded data removed]",
      "text/plain": [
       "<Figure size 640x480 with 1 Axes>"
      ]
     },
     "metadata": {},
     "output_type": "display_data"
    },
    {
     "name": "stdout",
     "output_type": "stream",
     "text": [
      "\n",
      "Sample tokenization:\n",
      "Text: i didnt feel humiliated\n",
      "Tokens: ['i', 'Ġdidnt', 'Ġfeel', 'Ġhumiliated']\n",
      "\n",
      "Text: i can go from feeling so hopeless to so damned hopeful just from being around someone who cares and is awake\n",
      "Tokens: ['i', 'Ġcan', 'Ġgo', 'Ġfrom', 'Ġfeeling', 'Ġso', 'Ġhopeless', 'Ġto', 'Ġso', 'Ġdamned', 'Ġhopeful', 'Ġjust', 'Ġfrom', 'Ġbeing', 'Ġaround', 'Ġsomeone', 'Ġwho', 'Ġcares', 'Ġand', 'Ġis', 'Ġawake']\n",
      "\n",
      "Text: im grabbing a minute to post i feel greedy wrong\n",
      "Tokens: ['im', 'Ġgrabbing', 'Ġa', 'Ġminute', 'Ġto', 'Ġpost', 'Ġi', 'Ġfeel', 'Ġgreedy', 'Ġwrong']\n",
      "\n"
     ]
    }
   ],
   "source": [
    "from datasets import load_dataset\n",
    "from transformers import AutoTokenizer\n",
    "from collections import Counter\n",
    "import matplotlib.pyplot as plt\n",
    "\n",
    "# Load the dataset\n",
    "dataset = load_dataset(\"dair-ai/emotion\")\n",
    "\n",
    "# Load the tokenizer\n",
    "tokenizer = AutoTokenizer.from_pretrained(\"roberta-base\")\n",
    "\n",
    "# Step 1: Show available splits\n",
    "print(\"Available splits:\", dataset.keys())\n",
    "\n",
    "# Step 2: Print number of examples per split\n",
    "for split in dataset:\n",
    "    print(f\"{split.capitalize()} split size: {len(dataset[split])}\")\n",
    "\n",
    "# Step 3: Print label names\n",
    "label_names = dataset[\"train\"].features[\"label\"].names\n",
    "print(\"Emotion labels:\", label_names)\n",
    "\n",
    "# Step 4: Count label distribution in the training set\n",
    "train_labels = [label_names[example[\"label\"]] for example in dataset[\"train\"]]\n",
    "label_counts = Counter(train_labels)\n",
    "\n",
    "print(\"\\nLabel distribution in the training set:\")\n",
    "for label, count in label_counts.items():\n",
    "    print(f\"{label:10}: {count}\")\n",
    "\n",
    "# Optional: visualize class distribution\n",
    "plt.bar(label_counts.keys(), label_counts.values())\n",
    "plt.title(\"Emotion Label Distribution (Training Set)\")\n",
    "plt.xticks(rotation=45)\n",
    "plt.tight_layout()\n",
    "plt.show()\n",
    "\n",
    "# Step 5: Tokenize a few samples\n",
    "print(\"\\nSample tokenization:\")\n",
    "for example in dataset[\"train\"].select(range(3)):\n",
    "    text = example[\"text\"]\n",
    "    tokens = tokenizer.tokenize(text)\n",
    "    print(f\"Text: {text}\")\n",
    "    print(f\"Tokens: {tokens}\")\n",
    "    print()\n"
   ]
  },
  {
   "cell_type": "code",
   "execution_count": null,
   "metadata": {},
   "outputs": [
    {
     "name": "stdout",
     "output_type": "stream",
     "text": [
      "<generator object <genexpr> at 0x7f3c34eada10>\n"
     ]
    }
   ],
   "source": [
    "from datasets import load_dataset\n",
    "\n",
    "# Load dataset\n",
    "dataset = load_dataset(\"dair-ai/emotion\")\n",
    "\n",
    "# Show one example\n",
    "print(dataset[\"train\"][0])\n"
   ]
  },
  {
   "cell_type": "code",
   "execution_count": 4,
   "metadata": {},
   "outputs": [
    {
     "name": "stdout",
     "output_type": "stream",
     "text": [
      "{'text': 'i didnt feel humiliated', 'label': 0}\n",
      "{'text': 'i can go from feeling so hopeless to so damned hopeful just from being around someone who cares and is awake', 'label': 0}\n",
      "{'text': 'im grabbing a minute to post i feel greedy wrong', 'label': 3}\n"
     ]
    }
   ],
   "source": [
    "for i in range(3):\n",
    "    print(dataset[\"train\"][i])  # Show first 3 examples"
   ]
  }
 ],
 "metadata": {
  "kernelspec": {
   "display_name": "emoenv",
   "language": "python",
   "name": "python3"
  },
  "language_info": {
   "codemirror_mode": {
    "name": "ipython",
    "version": 3
   },
   "file_extension": ".py",
   "mimetype": "text/x-python",
   "name": "python",
   "nbconvert_exporter": "python",
   "pygments_lexer": "ipython3",
   "version": "3.10.16"
  }
 },
 "nbformat": 4,
 "nbformat_minor": 2
}
